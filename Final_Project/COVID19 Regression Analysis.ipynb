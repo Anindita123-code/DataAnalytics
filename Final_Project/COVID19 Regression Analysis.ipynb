{
 "cells": [
  {
   "cell_type": "code",
   "execution_count": 59,
   "metadata": {},
   "outputs": [],
   "source": [
    "import pandas as pd\n",
    "import numpy as np\n",
    "import matplotlib.pyplot as plt\n",
    "import datetime as dt"
   ]
  },
  {
   "cell_type": "code",
   "execution_count": 60,
   "metadata": {},
   "outputs": [
    {
     "data": {
      "text/html": [
       "<div>\n",
       "<style scoped>\n",
       "    .dataframe tbody tr th:only-of-type {\n",
       "        vertical-align: middle;\n",
       "    }\n",
       "\n",
       "    .dataframe tbody tr th {\n",
       "        vertical-align: top;\n",
       "    }\n",
       "\n",
       "    .dataframe thead th {\n",
       "        text-align: right;\n",
       "    }\n",
       "</style>\n",
       "<table border=\"1\" class=\"dataframe\">\n",
       "  <thead>\n",
       "    <tr style=\"text-align: right;\">\n",
       "      <th></th>\n",
       "      <th>Unnamed: 0</th>\n",
       "      <th>iso_code</th>\n",
       "      <th>location</th>\n",
       "      <th>date</th>\n",
       "      <th>total_cases</th>\n",
       "      <th>total_deaths</th>\n",
       "      <th>stringency_index</th>\n",
       "      <th>population</th>\n",
       "      <th>gdp_per_capita</th>\n",
       "      <th>human_development_index</th>\n",
       "      <th>month</th>\n",
       "      <th>year</th>\n",
       "    </tr>\n",
       "  </thead>\n",
       "  <tbody>\n",
       "    <tr>\n",
       "      <th>0</th>\n",
       "      <td>0</td>\n",
       "      <td>AFG</td>\n",
       "      <td>Afghanistan</td>\n",
       "      <td>2019-12-31</td>\n",
       "      <td>0</td>\n",
       "      <td>0</td>\n",
       "      <td>0.0</td>\n",
       "      <td>38928341</td>\n",
       "      <td>1803.987</td>\n",
       "      <td>0.498</td>\n",
       "      <td>12</td>\n",
       "      <td>2019</td>\n",
       "    </tr>\n",
       "    <tr>\n",
       "      <th>1</th>\n",
       "      <td>1</td>\n",
       "      <td>AFG</td>\n",
       "      <td>Afghanistan</td>\n",
       "      <td>2020-01-01</td>\n",
       "      <td>0</td>\n",
       "      <td>0</td>\n",
       "      <td>0.0</td>\n",
       "      <td>38928341</td>\n",
       "      <td>1803.987</td>\n",
       "      <td>0.498</td>\n",
       "      <td>1</td>\n",
       "      <td>2020</td>\n",
       "    </tr>\n",
       "    <tr>\n",
       "      <th>2</th>\n",
       "      <td>2</td>\n",
       "      <td>AFG</td>\n",
       "      <td>Afghanistan</td>\n",
       "      <td>2020-01-02</td>\n",
       "      <td>0</td>\n",
       "      <td>0</td>\n",
       "      <td>0.0</td>\n",
       "      <td>38928341</td>\n",
       "      <td>1803.987</td>\n",
       "      <td>0.498</td>\n",
       "      <td>1</td>\n",
       "      <td>2020</td>\n",
       "    </tr>\n",
       "    <tr>\n",
       "      <th>3</th>\n",
       "      <td>3</td>\n",
       "      <td>AFG</td>\n",
       "      <td>Afghanistan</td>\n",
       "      <td>2020-01-03</td>\n",
       "      <td>0</td>\n",
       "      <td>0</td>\n",
       "      <td>0.0</td>\n",
       "      <td>38928341</td>\n",
       "      <td>1803.987</td>\n",
       "      <td>0.498</td>\n",
       "      <td>1</td>\n",
       "      <td>2020</td>\n",
       "    </tr>\n",
       "    <tr>\n",
       "      <th>4</th>\n",
       "      <td>4</td>\n",
       "      <td>AFG</td>\n",
       "      <td>Afghanistan</td>\n",
       "      <td>2020-01-04</td>\n",
       "      <td>0</td>\n",
       "      <td>0</td>\n",
       "      <td>0.0</td>\n",
       "      <td>38928341</td>\n",
       "      <td>1803.987</td>\n",
       "      <td>0.498</td>\n",
       "      <td>1</td>\n",
       "      <td>2020</td>\n",
       "    </tr>\n",
       "    <tr>\n",
       "      <th>5</th>\n",
       "      <td>5</td>\n",
       "      <td>AFG</td>\n",
       "      <td>Afghanistan</td>\n",
       "      <td>2020-01-05</td>\n",
       "      <td>0</td>\n",
       "      <td>0</td>\n",
       "      <td>0.0</td>\n",
       "      <td>38928341</td>\n",
       "      <td>1803.987</td>\n",
       "      <td>0.498</td>\n",
       "      <td>1</td>\n",
       "      <td>2020</td>\n",
       "    </tr>\n",
       "    <tr>\n",
       "      <th>6</th>\n",
       "      <td>6</td>\n",
       "      <td>AFG</td>\n",
       "      <td>Afghanistan</td>\n",
       "      <td>2020-01-06</td>\n",
       "      <td>0</td>\n",
       "      <td>0</td>\n",
       "      <td>0.0</td>\n",
       "      <td>38928341</td>\n",
       "      <td>1803.987</td>\n",
       "      <td>0.498</td>\n",
       "      <td>1</td>\n",
       "      <td>2020</td>\n",
       "    </tr>\n",
       "    <tr>\n",
       "      <th>7</th>\n",
       "      <td>7</td>\n",
       "      <td>AFG</td>\n",
       "      <td>Afghanistan</td>\n",
       "      <td>2020-01-07</td>\n",
       "      <td>0</td>\n",
       "      <td>0</td>\n",
       "      <td>0.0</td>\n",
       "      <td>38928341</td>\n",
       "      <td>1803.987</td>\n",
       "      <td>0.498</td>\n",
       "      <td>1</td>\n",
       "      <td>2020</td>\n",
       "    </tr>\n",
       "    <tr>\n",
       "      <th>8</th>\n",
       "      <td>8</td>\n",
       "      <td>AFG</td>\n",
       "      <td>Afghanistan</td>\n",
       "      <td>2020-01-08</td>\n",
       "      <td>0</td>\n",
       "      <td>0</td>\n",
       "      <td>0.0</td>\n",
       "      <td>38928341</td>\n",
       "      <td>1803.987</td>\n",
       "      <td>0.498</td>\n",
       "      <td>1</td>\n",
       "      <td>2020</td>\n",
       "    </tr>\n",
       "    <tr>\n",
       "      <th>9</th>\n",
       "      <td>9</td>\n",
       "      <td>AFG</td>\n",
       "      <td>Afghanistan</td>\n",
       "      <td>2020-01-09</td>\n",
       "      <td>0</td>\n",
       "      <td>0</td>\n",
       "      <td>0.0</td>\n",
       "      <td>38928341</td>\n",
       "      <td>1803.987</td>\n",
       "      <td>0.498</td>\n",
       "      <td>1</td>\n",
       "      <td>2020</td>\n",
       "    </tr>\n",
       "  </tbody>\n",
       "</table>\n",
       "</div>"
      ],
      "text/plain": [
       "   Unnamed: 0 iso_code     location        date  total_cases  total_deaths  \\\n",
       "0           0      AFG  Afghanistan  2019-12-31            0             0   \n",
       "1           1      AFG  Afghanistan  2020-01-01            0             0   \n",
       "2           2      AFG  Afghanistan  2020-01-02            0             0   \n",
       "3           3      AFG  Afghanistan  2020-01-03            0             0   \n",
       "4           4      AFG  Afghanistan  2020-01-04            0             0   \n",
       "5           5      AFG  Afghanistan  2020-01-05            0             0   \n",
       "6           6      AFG  Afghanistan  2020-01-06            0             0   \n",
       "7           7      AFG  Afghanistan  2020-01-07            0             0   \n",
       "8           8      AFG  Afghanistan  2020-01-08            0             0   \n",
       "9           9      AFG  Afghanistan  2020-01-09            0             0   \n",
       "\n",
       "   stringency_index  population  gdp_per_capita  human_development_index  \\\n",
       "0               0.0    38928341        1803.987                    0.498   \n",
       "1               0.0    38928341        1803.987                    0.498   \n",
       "2               0.0    38928341        1803.987                    0.498   \n",
       "3               0.0    38928341        1803.987                    0.498   \n",
       "4               0.0    38928341        1803.987                    0.498   \n",
       "5               0.0    38928341        1803.987                    0.498   \n",
       "6               0.0    38928341        1803.987                    0.498   \n",
       "7               0.0    38928341        1803.987                    0.498   \n",
       "8               0.0    38928341        1803.987                    0.498   \n",
       "9               0.0    38928341        1803.987                    0.498   \n",
       "\n",
       "   month  year  \n",
       "0     12  2019  \n",
       "1      1  2020  \n",
       "2      1  2020  \n",
       "3      1  2020  \n",
       "4      1  2020  \n",
       "5      1  2020  \n",
       "6      1  2020  \n",
       "7      1  2020  \n",
       "8      1  2020  \n",
       "9      1  2020  "
      ]
     },
     "execution_count": 60,
     "metadata": {},
     "output_type": "execute_result"
    }
   ],
   "source": [
    "pandemic_data = pd.read_csv('dataset/transformed_pandemic_data.csv')\n",
    "pandemic_data.head(10)"
   ]
  },
  {
   "cell_type": "code",
   "execution_count": 61,
   "metadata": {},
   "outputs": [
    {
     "data": {
      "text/plain": [
       "(50418, 12)"
      ]
     },
     "execution_count": 61,
     "metadata": {},
     "output_type": "execute_result"
    }
   ],
   "source": [
    "pandemic_data.shape"
   ]
  },
  {
   "cell_type": "code",
   "execution_count": 62,
   "metadata": {},
   "outputs": [
    {
     "data": {
      "text/plain": [
       "Index(['Unnamed: 0', 'iso_code', 'loc', 'date', 'total_cases', 'total_deaths',\n",
       "       'SI', 'pop', 'GDP', 'HDI', 'month', 'year'],\n",
       "      dtype='object')"
      ]
     },
     "execution_count": 62,
     "metadata": {},
     "output_type": "execute_result"
    }
   ],
   "source": [
    "# Rename columns\n",
    "pandemic_data = pandemic_data.rename(columns = {'location':'loc', 'stringency_index': 'SI', 'population': 'pop', 'gdp_per_capita':'GDP', 'human_development_index': 'HDI'})\n",
    "pandemic_data.columns"
   ]
  },
  {
   "cell_type": "code",
   "execution_count": 63,
   "metadata": {},
   "outputs": [],
   "source": [
    "index_names = pandemic_data[(pandemic_data['SI'] == 0.0) & (pandemic_data['total_deaths'] == 0) & (pandemic_data['total_cases'] == 0)].index\n",
    "pandemic_data.drop(index_names, inplace = True)"
   ]
  },
  {
   "cell_type": "code",
   "execution_count": 64,
   "metadata": {},
   "outputs": [
    {
     "data": {
      "text/html": [
       "<div>\n",
       "<style scoped>\n",
       "    .dataframe tbody tr th:only-of-type {\n",
       "        vertical-align: middle;\n",
       "    }\n",
       "\n",
       "    .dataframe tbody tr th {\n",
       "        vertical-align: top;\n",
       "    }\n",
       "\n",
       "    .dataframe thead th {\n",
       "        text-align: right;\n",
       "    }\n",
       "</style>\n",
       "<table border=\"1\" class=\"dataframe\">\n",
       "  <thead>\n",
       "    <tr style=\"text-align: right;\">\n",
       "      <th></th>\n",
       "      <th>Unnamed: 0</th>\n",
       "      <th>iso_code</th>\n",
       "      <th>loc</th>\n",
       "      <th>date</th>\n",
       "      <th>total_cases</th>\n",
       "      <th>total_deaths</th>\n",
       "      <th>SI</th>\n",
       "      <th>pop</th>\n",
       "      <th>GDP</th>\n",
       "      <th>HDI</th>\n",
       "      <th>month</th>\n",
       "      <th>year</th>\n",
       "    </tr>\n",
       "  </thead>\n",
       "  <tbody>\n",
       "    <tr>\n",
       "      <th>21453</th>\n",
       "      <td>21453</td>\n",
       "      <td>IND</td>\n",
       "      <td>India</td>\n",
       "      <td>2020-01-25</td>\n",
       "      <td>0</td>\n",
       "      <td>0</td>\n",
       "      <td>5.56</td>\n",
       "      <td>1380004385</td>\n",
       "      <td>6426.674</td>\n",
       "      <td>0.64</td>\n",
       "      <td>1</td>\n",
       "      <td>2020</td>\n",
       "    </tr>\n",
       "    <tr>\n",
       "      <th>21454</th>\n",
       "      <td>21454</td>\n",
       "      <td>IND</td>\n",
       "      <td>India</td>\n",
       "      <td>2020-01-26</td>\n",
       "      <td>0</td>\n",
       "      <td>0</td>\n",
       "      <td>10.19</td>\n",
       "      <td>1380004385</td>\n",
       "      <td>6426.674</td>\n",
       "      <td>0.64</td>\n",
       "      <td>1</td>\n",
       "      <td>2020</td>\n",
       "    </tr>\n",
       "    <tr>\n",
       "      <th>21455</th>\n",
       "      <td>21455</td>\n",
       "      <td>IND</td>\n",
       "      <td>India</td>\n",
       "      <td>2020-01-27</td>\n",
       "      <td>0</td>\n",
       "      <td>0</td>\n",
       "      <td>10.19</td>\n",
       "      <td>1380004385</td>\n",
       "      <td>6426.674</td>\n",
       "      <td>0.64</td>\n",
       "      <td>1</td>\n",
       "      <td>2020</td>\n",
       "    </tr>\n",
       "    <tr>\n",
       "      <th>21456</th>\n",
       "      <td>21456</td>\n",
       "      <td>IND</td>\n",
       "      <td>India</td>\n",
       "      <td>2020-01-28</td>\n",
       "      <td>0</td>\n",
       "      <td>0</td>\n",
       "      <td>10.19</td>\n",
       "      <td>1380004385</td>\n",
       "      <td>6426.674</td>\n",
       "      <td>0.64</td>\n",
       "      <td>1</td>\n",
       "      <td>2020</td>\n",
       "    </tr>\n",
       "    <tr>\n",
       "      <th>21457</th>\n",
       "      <td>21457</td>\n",
       "      <td>IND</td>\n",
       "      <td>India</td>\n",
       "      <td>2020-01-29</td>\n",
       "      <td>0</td>\n",
       "      <td>0</td>\n",
       "      <td>10.19</td>\n",
       "      <td>1380004385</td>\n",
       "      <td>6426.674</td>\n",
       "      <td>0.64</td>\n",
       "      <td>1</td>\n",
       "      <td>2020</td>\n",
       "    </tr>\n",
       "    <tr>\n",
       "      <th>...</th>\n",
       "      <td>...</td>\n",
       "      <td>...</td>\n",
       "      <td>...</td>\n",
       "      <td>...</td>\n",
       "      <td>...</td>\n",
       "      <td>...</td>\n",
       "      <td>...</td>\n",
       "      <td>...</td>\n",
       "      <td>...</td>\n",
       "      <td>...</td>\n",
       "      <td>...</td>\n",
       "      <td>...</td>\n",
       "    </tr>\n",
       "    <tr>\n",
       "      <th>21717</th>\n",
       "      <td>21717</td>\n",
       "      <td>IND</td>\n",
       "      <td>India</td>\n",
       "      <td>2020-10-15</td>\n",
       "      <td>7307097</td>\n",
       "      <td>111266</td>\n",
       "      <td>0.00</td>\n",
       "      <td>1380004385</td>\n",
       "      <td>6426.674</td>\n",
       "      <td>0.64</td>\n",
       "      <td>10</td>\n",
       "      <td>2020</td>\n",
       "    </tr>\n",
       "    <tr>\n",
       "      <th>21718</th>\n",
       "      <td>21718</td>\n",
       "      <td>IND</td>\n",
       "      <td>India</td>\n",
       "      <td>2020-10-16</td>\n",
       "      <td>7370468</td>\n",
       "      <td>112161</td>\n",
       "      <td>0.00</td>\n",
       "      <td>1380004385</td>\n",
       "      <td>6426.674</td>\n",
       "      <td>0.64</td>\n",
       "      <td>10</td>\n",
       "      <td>2020</td>\n",
       "    </tr>\n",
       "    <tr>\n",
       "      <th>21719</th>\n",
       "      <td>21719</td>\n",
       "      <td>IND</td>\n",
       "      <td>India</td>\n",
       "      <td>2020-10-17</td>\n",
       "      <td>7432680</td>\n",
       "      <td>112998</td>\n",
       "      <td>0.00</td>\n",
       "      <td>1380004385</td>\n",
       "      <td>6426.674</td>\n",
       "      <td>0.64</td>\n",
       "      <td>10</td>\n",
       "      <td>2020</td>\n",
       "    </tr>\n",
       "    <tr>\n",
       "      <th>21720</th>\n",
       "      <td>21720</td>\n",
       "      <td>IND</td>\n",
       "      <td>India</td>\n",
       "      <td>2020-10-18</td>\n",
       "      <td>7494551</td>\n",
       "      <td>114031</td>\n",
       "      <td>0.00</td>\n",
       "      <td>1380004385</td>\n",
       "      <td>6426.674</td>\n",
       "      <td>0.64</td>\n",
       "      <td>10</td>\n",
       "      <td>2020</td>\n",
       "    </tr>\n",
       "    <tr>\n",
       "      <th>21721</th>\n",
       "      <td>21721</td>\n",
       "      <td>IND</td>\n",
       "      <td>India</td>\n",
       "      <td>2020-10-19</td>\n",
       "      <td>7550273</td>\n",
       "      <td>114610</td>\n",
       "      <td>0.00</td>\n",
       "      <td>1380004385</td>\n",
       "      <td>6426.674</td>\n",
       "      <td>0.64</td>\n",
       "      <td>10</td>\n",
       "      <td>2020</td>\n",
       "    </tr>\n",
       "  </tbody>\n",
       "</table>\n",
       "<p>269 rows × 12 columns</p>\n",
       "</div>"
      ],
      "text/plain": [
       "       Unnamed: 0 iso_code    loc        date  total_cases  total_deaths  \\\n",
       "21453       21453      IND  India  2020-01-25            0             0   \n",
       "21454       21454      IND  India  2020-01-26            0             0   \n",
       "21455       21455      IND  India  2020-01-27            0             0   \n",
       "21456       21456      IND  India  2020-01-28            0             0   \n",
       "21457       21457      IND  India  2020-01-29            0             0   \n",
       "...           ...      ...    ...         ...          ...           ...   \n",
       "21717       21717      IND  India  2020-10-15      7307097        111266   \n",
       "21718       21718      IND  India  2020-10-16      7370468        112161   \n",
       "21719       21719      IND  India  2020-10-17      7432680        112998   \n",
       "21720       21720      IND  India  2020-10-18      7494551        114031   \n",
       "21721       21721      IND  India  2020-10-19      7550273        114610   \n",
       "\n",
       "          SI         pop       GDP   HDI  month  year  \n",
       "21453   5.56  1380004385  6426.674  0.64      1  2020  \n",
       "21454  10.19  1380004385  6426.674  0.64      1  2020  \n",
       "21455  10.19  1380004385  6426.674  0.64      1  2020  \n",
       "21456  10.19  1380004385  6426.674  0.64      1  2020  \n",
       "21457  10.19  1380004385  6426.674  0.64      1  2020  \n",
       "...      ...         ...       ...   ...    ...   ...  \n",
       "21717   0.00  1380004385  6426.674  0.64     10  2020  \n",
       "21718   0.00  1380004385  6426.674  0.64     10  2020  \n",
       "21719   0.00  1380004385  6426.674  0.64     10  2020  \n",
       "21720   0.00  1380004385  6426.674  0.64     10  2020  \n",
       "21721   0.00  1380004385  6426.674  0.64     10  2020  \n",
       "\n",
       "[269 rows x 12 columns]"
      ]
     },
     "execution_count": 64,
     "metadata": {},
     "output_type": "execute_result"
    }
   ],
   "source": [
    "# Filter out India's data\n",
    "\n",
    "india_pandemic_data = pandemic_data.loc[pandemic_data['loc'] == 'India']\n",
    "india_pandemic_data"
   ]
  },
  {
   "cell_type": "markdown",
   "metadata": {},
   "source": [
    "### Lets create a scatter plot to figure out the if there is a linear relationship between the two variables"
   ]
  },
  {
   "cell_type": "code",
   "execution_count": 65,
   "metadata": {},
   "outputs": [
    {
     "data": {
      "image/png": "[encoded data removed]",
      "text/plain": [
       "<Figure size 720x576 with 1 Axes>"
      ]
     },
     "metadata": {
      "needs_background": "light"
     },
     "output_type": "display_data"
    }
   ],
   "source": [
    "fig, ax = plt.subplots()\n",
    "fig.set_size_inches(10, 8, forward=True)\n",
    "ax.scatter(pandemic_data['SI'], pandemic_data['total_deaths'])\n",
    "ax.set_xlabel('Stringency Index', fontsize=15)\n",
    "ax.set_ylabel('Total cases', fontsize=15)\n",
    "ax.set_title('Stringency Index and Reported Covid Cases', fontsize=18)\n",
    "ax.grid(which='both')\n",
    "plt.tight_layout()"
   ]
  },
  {
   "cell_type": "markdown",
   "metadata": {},
   "source": [
    "### Regression variable -\n",
    "    y is dependant\n",
    "    x is independant"
   ]
  },
  {
   "cell_type": "code",
   "execution_count": 85,
   "metadata": {},
   "outputs": [],
   "source": [
    "x = india_pandemic_data['SI']\n",
    "y = india_pandemic_data['total_cases']\n",
    "# y2 = india_pandemic_data['total_deaths']"
   ]
  },
  {
   "cell_type": "markdown",
   "metadata": {},
   "source": []
  },
  {
   "cell_type": "code",
   "execution_count": 86,
   "metadata": {},
   "outputs": [
    {
     "data": {
      "text/plain": [
       "21453     5.56\n",
       "21454    10.19\n",
       "21455    10.19\n",
       "21456    10.19\n",
       "21457    10.19\n",
       "         ...  \n",
       "21717     0.00\n",
       "21718     0.00\n",
       "21719     0.00\n",
       "21720     0.00\n",
       "21721     0.00\n",
       "Name: SI, Length: 269, dtype: float64"
      ]
     },
     "execution_count": 86,
     "metadata": {},
     "output_type": "execute_result"
    }
   ],
   "source": [
    "x"
   ]
  },
  {
   "cell_type": "markdown",
   "metadata": {},
   "source": [
    "#### Model Validation"
   ]
  },
  {
   "cell_type": "code",
   "execution_count": 87,
   "metadata": {},
   "outputs": [
    {
     "name": "stdout",
     "output_type": "stream",
     "text": [
      "[[ 79.63]\n",
      " [ 79.63]\n",
      " [ 76.85]\n",
      " [ 74.07]\n",
      " [ 81.02]\n",
      " [ 96.3 ]\n",
      " [100.  ]\n",
      " [100.  ]\n",
      " [ 79.63]\n",
      " [ 26.85]\n",
      " [ 79.63]\n",
      " [ 76.39]\n",
      " [ 81.02]\n",
      " [ 81.94]\n",
      " [ 75.46]\n",
      " [ 77.78]\n",
      " [ 75.46]\n",
      " [ 81.02]\n",
      " [ 77.78]\n",
      " [ 81.02]\n",
      " [ 76.39]\n",
      " [ 79.63]\n",
      " [ 75.46]\n",
      " [ 81.02]\n",
      " [ 79.63]\n",
      " [ 10.19]\n",
      " [ 79.63]\n",
      " [ 81.02]\n",
      " [ 77.78]\n",
      " [ 26.85]\n",
      " [ 79.63]\n",
      " [ 96.3 ]\n",
      " [ 76.39]\n",
      " [ 81.94]\n",
      " [ 70.83]\n",
      " [ 74.07]\n",
      " [ 81.02]\n",
      " [  0.  ]\n",
      " [ 10.19]\n",
      " [ 76.39]\n",
      " [ 81.94]\n",
      " [100.  ]\n",
      " [ 79.17]\n",
      " [ 79.63]\n",
      " [ 76.85]\n",
      " [ 76.85]\n",
      " [ 77.78]\n",
      " [ 74.07]\n",
      " [ 79.63]\n",
      " [ 96.3 ]\n",
      " [ 59.72]\n",
      " [ 10.19]\n",
      " [ 10.19]\n",
      " [ 86.57]\n",
      " [ 10.19]\n",
      " [ 96.3 ]\n",
      " [100.  ]\n",
      " [ 81.02]\n",
      " [ 81.02]\n",
      " [ 79.63]\n",
      " [ 79.63]\n",
      " [ 79.63]\n",
      " [ 10.19]\n",
      " [100.  ]\n",
      " [ 75.46]\n",
      " [  5.56]\n",
      " [ 76.39]\n",
      " [100.  ]\n",
      " [ 10.19]\n",
      " [ 10.19]\n",
      " [ 81.94]\n",
      " [ 73.61]\n",
      " [ 79.63]\n",
      " [ 10.19]\n",
      " [ 74.07]\n",
      " [ 26.85]\n",
      " [ 81.02]\n",
      " [ 81.02]\n",
      " [ 76.39]\n",
      " [100.  ]\n",
      " [ 81.02]\n",
      " [ 73.61]\n",
      " [ 76.85]\n",
      " [ 10.19]\n",
      " [ 79.63]\n",
      " [ 10.19]\n",
      " [ 81.94]\n",
      " [ 76.85]\n",
      " [100.  ]\n",
      " [ 77.78]\n",
      " [ 73.61]\n",
      " [ 10.19]\n",
      " [ 79.63]\n",
      " [ 77.78]\n",
      " [ 81.02]\n",
      " [ 79.17]\n",
      " [ 76.39]\n",
      " [ 77.78]\n",
      " [ 10.19]\n",
      " [ 81.02]\n",
      " [ 79.17]\n",
      " [ 79.17]\n",
      " [ 74.07]\n",
      " [ 81.94]\n",
      " [ 10.19]\n",
      " [ 73.61]\n",
      " [ 77.78]\n",
      " [ 73.61]\n",
      " [ 74.07]\n",
      " [ 81.02]\n",
      " [ 76.85]\n",
      " [ 10.19]\n",
      " [ 79.63]\n",
      " [ 10.19]\n",
      " [ 76.39]\n",
      " [ 75.46]\n",
      " [ 48.15]\n",
      " [ 36.11]\n",
      " [ 15.74]\n",
      " [ 81.94]\n",
      " [ 10.19]\n",
      " [ 73.61]\n",
      " [ 26.85]\n",
      " [ 10.19]\n",
      " [ 26.85]\n",
      " [ 79.63]\n",
      " [ 33.33]\n",
      " [ 73.61]\n",
      " [ 10.19]\n",
      " [ 81.02]\n",
      " [ 75.46]\n",
      " [ 75.46]\n",
      " [ 75.46]\n",
      " [100.  ]\n",
      " [ 96.3 ]\n",
      " [ 10.19]\n",
      " [ 76.85]\n",
      " [ 10.19]\n",
      " [ 10.19]\n",
      " [  0.  ]\n",
      " [ 77.78]\n",
      " [ 79.17]\n",
      " [ 79.17]\n",
      " [ 10.19]\n",
      " [ 81.94]\n",
      " [ 77.78]\n",
      " [ 10.19]\n",
      " [ 50.  ]\n",
      " [ 81.02]\n",
      " [ 26.85]\n",
      " [100.  ]\n",
      " [ 96.3 ]\n",
      " [ 81.02]\n",
      " [ 77.78]\n",
      " [ 77.78]\n",
      " [ 76.85]\n",
      " [ 96.3 ]\n",
      " [ 79.17]\n",
      " [ 79.17]\n",
      " [ 75.46]\n",
      " [ 79.17]\n",
      " [ 77.78]\n",
      " [  0.  ]\n",
      " [ 75.46]\n",
      " [100.  ]\n",
      " [ 73.61]\n",
      " [ 96.3 ]\n",
      " [100.  ]\n",
      " [ 75.46]\n",
      " [100.  ]\n",
      " [ 81.02]\n",
      " [ 10.19]\n",
      " [ 10.19]\n",
      " [ 10.19]\n",
      " [ 77.78]\n",
      " [100.  ]\n",
      " [ 79.63]\n",
      " [ 75.46]\n",
      " [ 73.61]\n",
      " [ 81.94]\n",
      " [ 77.78]\n",
      " [ 81.94]\n",
      " [ 81.94]\n",
      " [ 81.94]\n",
      " [ 26.85]\n",
      " [ 10.19]\n",
      " [ 10.19]\n",
      " [ 10.19]\n",
      " [100.  ]\n",
      " [ 75.46]\n",
      " [ 76.39]\n",
      " [ 81.94]\n",
      " [ 81.02]\n",
      " [100.  ]\n",
      " [ 10.19]\n",
      " [ 73.61]\n",
      " [ 96.3 ]\n",
      " [ 76.39]\n",
      " [100.  ]\n",
      " [ 77.78]\n",
      " [ 77.78]\n",
      " [ 77.78]\n",
      " [  0.  ]\n",
      " [ 79.63]\n",
      " [ 73.61]\n",
      " [ 81.94]\n",
      " [100.  ]\n",
      " [ 74.07]\n",
      " [ 38.89]\n",
      " [ 74.07]\n",
      " [  0.  ]\n",
      " [ 48.15]\n",
      " [ 77.78]\n",
      " [ 96.3 ]\n",
      " [ 79.17]]\n",
      "21651    2215074\n",
      "21665    3106348\n",
      "21596     343091\n",
      "21611     585493\n",
      "21681    4370128\n",
      "          ...   \n",
      "21717    7307097\n",
      "21505        125\n",
      "21631    1155191\n",
      "21539      17265\n",
      "21568     101139\n",
      "Name: total_cases, Length: 215, dtype: int64\n"
     ]
    }
   ],
   "source": [
    "from sklearn.model_selection import train_test_split\n",
    "from sklearn.linear_model import LinearRegression\n",
    "\n",
    "model = LinearRegression()\n",
    "x_train, x_test, y_train, y_test = train_test_split(x,y, test_size=0.2, shuffle=True)\n",
    "x_train = x_train.values.reshape(-1, 1)\n",
    "x_test = x_test.values.reshape(-1, 1)\n",
    "\n",
    "print(x_train)\n",
    "print(y_train)"
   ]
  },
  {
   "cell_type": "code",
   "execution_count": 88,
   "metadata": {},
   "outputs": [
    {
     "data": {
      "text/plain": [
       "LinearRegression()"
      ]
     },
     "execution_count": 88,
     "metadata": {},
     "output_type": "execute_result"
    }
   ],
   "source": [
    "model.fit(x_train, y_train)"
   ]
  },
  {
   "cell_type": "code",
   "execution_count": 89,
   "metadata": {},
   "outputs": [
    {
     "data": {
      "text/plain": [
       "array([4909.01900306])"
      ]
     },
     "execution_count": 89,
     "metadata": {},
     "output_type": "execute_result"
    }
   ],
   "source": [
    "model.coef_"
   ]
  },
  {
   "cell_type": "code",
   "execution_count": 90,
   "metadata": {},
   "outputs": [
    {
     "data": {
      "text/plain": [
       "0.00439358247961652"
      ]
     },
     "execution_count": 90,
     "metadata": {},
     "output_type": "execute_result"
    }
   ],
   "source": [
    "model.score(x_train, y_train)"
   ]
  },
  {
   "cell_type": "markdown",
   "metadata": {},
   "source": [
    "Fitting the dataset into Linear Regression Model"
   ]
  },
  {
   "cell_type": "code",
   "execution_count": 91,
   "metadata": {},
   "outputs": [
    {
     "data": {
      "text/plain": [
       "LinearRegression()"
      ]
     },
     "execution_count": 91,
     "metadata": {},
     "output_type": "execute_result"
    }
   ],
   "source": [
    "from sklearn.linear_model import LinearRegression\n",
    "\n",
    "regressor=LinearRegression()\n",
    "regressor.fit(x_train,y_train)"
   ]
  },
  {
   "cell_type": "code",
   "execution_count": 92,
   "metadata": {},
   "outputs": [
    {
     "data": {
      "text/plain": [
       "array([4909.01900306])"
      ]
     },
     "execution_count": 92,
     "metadata": {},
     "output_type": "execute_result"
    }
   ],
   "source": [
    "# calculated co-efficients\n",
    "regressor.coef_"
   ]
  },
  {
   "cell_type": "code",
   "execution_count": 93,
   "metadata": {},
   "outputs": [
    {
     "data": {
      "text/plain": [
       "array([1659093.30680742, 1529544.29531671, 1559096.58971512,\n",
       "       1550014.90455946, 1640929.93649611, 1531802.44405811,\n",
       "       1659093.30680742, 1543191.36814521, 1550014.90455946,\n",
       "       1218214.31014273, 1640929.93649611, 1299998.56673369,\n",
       "       1556838.44097371, 1593165.18159635, 1565920.12612937,\n",
       "       1559096.58971512, 1529544.29531671, 1543191.36814521,\n",
       "       1659093.30680742, 1559096.58971512, 1659093.30680742,\n",
       "       1218214.31014273, 1659093.30680742, 1659093.30680742,\n",
       "       1218214.31014273, 1559096.58971512, 1559096.58971512,\n",
       "       1538625.98047237, 1565920.12612937, 1218214.31014273,\n",
       "       1559096.58971512, 1659093.30680742, 1543191.36814521,\n",
       "       1538625.98047237, 1556838.44097371, 1565920.12612937,\n",
       "       1168191.40650157, 1640929.93649611, 1538625.98047237,\n",
       "       1529544.29531671, 1556838.44097371, 1559096.58971512,\n",
       "       1659093.30680742, 1218214.31014273, 1218214.31014273,\n",
       "       1659093.30680742, 1640929.93649611, 1550014.90455946,\n",
       "       1556838.44097371, 1218214.31014273, 1543191.36814521,\n",
       "       1559096.58971512, 1545449.51688662, 1538625.98047237])"
      ]
     },
     "execution_count": 93,
     "metadata": {},
     "output_type": "execute_result"
    }
   ],
   "source": [
    "# predicting\n",
    "y_pred= regressor.predict(x_test) \n",
    "y_pred"
   ]
  },
  {
   "cell_type": "code",
   "execution_count": 94,
   "metadata": {},
   "outputs": [
    {
     "name": "stdout",
     "output_type": "stream",
     "text": [
      "Train Score:  0.00439358247961652\n",
      "Test Score:  -0.00925994652657236\n"
     ]
    }
   ],
   "source": [
    "print('Train Score: ', regressor.score(x_train, y_train))  \n",
    "print('Test Score: ', regressor.score(x_test, y_test))"
   ]
  },
  {
   "cell_type": "code",
   "execution_count": 95,
   "metadata": {},
   "outputs": [
    {
     "data": {
      "text/plain": [
       "5289112028628.67"
      ]
     },
     "execution_count": 95,
     "metadata": {},
     "output_type": "execute_result"
    }
   ],
   "source": [
    "from sklearn.metrics import mean_squared_error\n",
    "\n",
    "mean_squared_error(y_test,y_pred)"
   ]
  },
  {
   "cell_type": "code",
   "execution_count": 96,
   "metadata": {},
   "outputs": [],
   "source": [
    "from sklearn.feature_selection import SelectKBest\n",
    "from sklearn.feature_selection import f_regression\n",
    "from sklearn.feature_selection import mutual_info_regression"
   ]
  },
  {
   "cell_type": "markdown",
   "metadata": {},
   "source": [
    "# Feature Selection using correlation"
   ]
  },
  {
   "cell_type": "code",
   "execution_count": 97,
   "metadata": {},
   "outputs": [],
   "source": [
    "# feature selection\n",
    "f_selector = SelectKBest(score_func=f_regression, k='all')"
   ]
  },
  {
   "cell_type": "code",
   "execution_count": 98,
   "metadata": {},
   "outputs": [
    {
     "data": {
      "text/plain": [
       "SelectKBest(k='all', score_func=<function f_regression at 0x1239d9550>)"
      ]
     },
     "execution_count": 98,
     "metadata": {},
     "output_type": "execute_result"
    }
   ],
   "source": [
    "# learn relationship from training data\n",
    "f_selector.fit(x_train, y_train)"
   ]
  },
  {
   "cell_type": "code",
   "execution_count": 99,
   "metadata": {},
   "outputs": [],
   "source": [
    "# transform train input data\n",
    "x_train_fs = f_selector.transform(x_train)\n",
    "# transform test input data\n",
    "x_test_fs = f_selector.transform(x_test)"
   ]
  },
  {
   "cell_type": "code",
   "execution_count": 100,
   "metadata": {},
   "outputs": [
    {
     "data": {
      "image/png": "[encoded data removed]",
      "text/plain": [
       "<Figure size 432x288 with 1 Axes>"
      ]
     },
     "metadata": {
      "needs_background": "light"
     },
     "output_type": "display_data"
    }
   ],
   "source": [
    "# Plot the scores for the features\n",
    "plt.bar([i for i in range(len(f_selector.scores_))], f_selector.scores_)\n",
    "plt.xlabel(\"feature index\")\n",
    "plt.ylabel(\"F-value (transformed from the correlation values)\")\n",
    "plt.show()"
   ]
  },
  {
   "cell_type": "code",
   "execution_count": null,
   "metadata": {},
   "outputs": [],
   "source": []
  },
  {
   "cell_type": "code",
   "execution_count": null,
   "metadata": {},
   "outputs": [],
   "source": []
  },
  {
   "cell_type": "code",
   "execution_count": null,
   "metadata": {},
   "outputs": [],
   "source": []
  }
 ],
 "metadata": {
  "kernelspec": {
   "display_name": "Python 3",
   "language": "python",
   "name": "python3"
  },
  "language_info": {
   "codemirror_mode": {
    "name": "ipython",
    "version": 3
   },
   "file_extension": ".py",
   "mimetype": "text/x-python",
   "name": "python",
   "nbconvert_exporter": "python",
   "pygments_lexer": "ipython3",
   "version": "3.8.5"
  }
 },
 "nbformat": 4,
 "nbformat_minor": 4
}
