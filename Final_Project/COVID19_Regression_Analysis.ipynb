{
 "cells": [
  {
   "cell_type": "code",
   "execution_count": 169,
   "metadata": {},
   "outputs": [],
   "source": [
    "import pandas as pd\n",
    "import numpy as np\n",
    "import matplotlib.pyplot as plt\n",
    "import datetime as dt"
   ]
  },
  {
   "cell_type": "code",
   "execution_count": 170,
   "metadata": {},
   "outputs": [
    {
     "data": {
      "text/plain": [
       "(50418, 9)"
      ]
     },
     "execution_count": 170,
     "metadata": {},
     "output_type": "execute_result"
    }
   ],
   "source": [
    "# Basic Analysis of the raw dataset\n",
    "\n",
    "pandemic_df = pd.read_csv('dataset/raw_data.csv')\n",
    "pandemic_df.drop(columns = ['Unnamed: 9', 'Unnamed: 10', 'Unnamed: 11', 'Unnamed: 12', 'Unnamed: 13'], axis = 1, inplace = True)\n",
    "# pandemic_df = pandemic_df[pandemic_df.isna().any(axis=1)]\n",
    "pandemic_df.shape"
   ]
  },
  {
   "cell_type": "code",
   "execution_count": 171,
   "metadata": {},
   "outputs": [
    {
     "data": {
      "text/plain": [
       "iso_code                           object\n",
       "location                           object\n",
       "date                       datetime64[ns]\n",
       "total_cases                         int64\n",
       "total_deaths                        int64\n",
       "stringency_index                  float64\n",
       "population                          int64\n",
       "gdp_per_capita                    float64\n",
       "human_development_index           float64\n",
       "month                               int64\n",
       "year                                int64\n",
       "dtype: object"
      ]
     },
     "execution_count": 171,
     "metadata": {},
     "output_type": "execute_result"
    }
   ],
   "source": [
    "# convert the 'Date' column to datetime format\n",
    "pandemic_df['date'] = pd.to_datetime(pandemic_df['date'])\n",
    "# convert float64 to int64 for total_cases and total_deaths\n",
    "pandemic_df['total_cases'] = pandemic_df['total_cases'].fillna(0)\n",
    "pandemic_df['total_cases'] = pandemic_df['total_cases'].astype(np.int64)\n",
    "pandemic_df['total_deaths'] = pandemic_df['total_deaths'].fillna(0)\n",
    "pandemic_df['total_deaths'] = pandemic_df['total_deaths'].astype(np.int64)\n",
    "pandemic_df['stringency_index'] = pandemic_df['stringency_index'].fillna(method='bfill')\n",
    "\n",
    "# interpolate for missing values\n",
    "df_inter = pandemic_df.interpolate()\n",
    "df_inter['month'] = df_inter['date'].dt.month\n",
    "df_inter['year'] = df_inter['date'].dt.year\n",
    "pandemic_data = df_inter\n",
    "# pandemic_data = pd.read_csv('dataset/transformed_pandemic_data2.csv')\n",
    "pandemic_data.dtypes"
   ]
  },
  {
   "cell_type": "code",
   "execution_count": 172,
   "metadata": {},
   "outputs": [
    {
     "data": {
      "text/plain": [
       "(50418, 11)"
      ]
     },
     "execution_count": 172,
     "metadata": {},
     "output_type": "execute_result"
    }
   ],
   "source": [
    "pandemic_data.shape"
   ]
  },
  {
   "cell_type": "code",
   "execution_count": 173,
   "metadata": {},
   "outputs": [
    {
     "data": {
      "text/plain": [
       "Index(['iso_code', 'loc', 'date', 'total_cases', 'total_deaths', 'SI', 'pop',\n",
       "       'GDP', 'HDI', 'month', 'year'],\n",
       "      dtype='object')"
      ]
     },
     "execution_count": 173,
     "metadata": {},
     "output_type": "execute_result"
    }
   ],
   "source": [
    "# Rename columns\n",
    "pandemic_data = pandemic_data.rename(columns = {'location':'loc', 'stringency_index': 'SI', 'population': 'pop', 'gdp_per_capita':'GDP', 'human_development_index': 'HDI'})\n",
    "pandemic_data.columns"
   ]
  },
  {
   "cell_type": "code",
   "execution_count": 174,
   "metadata": {},
   "outputs": [],
   "source": [
    "index_names = pandemic_data[(pandemic_data['SI'] == 0.0) & (pandemic_data['total_deaths'] == 0) & (pandemic_data['total_cases'] == 0)].index\n",
    "pandemic_data.drop(index_names, inplace = True)"
   ]
  },
  {
   "cell_type": "code",
   "execution_count": 175,
   "metadata": {},
   "outputs": [
    {
     "data": {
      "text/html": [
       "<div>\n",
       "<style scoped>\n",
       "    .dataframe tbody tr th:only-of-type {\n",
       "        vertical-align: middle;\n",
       "    }\n",
       "\n",
       "    .dataframe tbody tr th {\n",
       "        vertical-align: top;\n",
       "    }\n",
       "\n",
       "    .dataframe thead th {\n",
       "        text-align: right;\n",
       "    }\n",
       "</style>\n",
       "<table border=\"1\" class=\"dataframe\">\n",
       "  <thead>\n",
       "    <tr style=\"text-align: right;\">\n",
       "      <th></th>\n",
       "      <th>iso_code</th>\n",
       "      <th>loc</th>\n",
       "      <th>date</th>\n",
       "      <th>total_cases</th>\n",
       "      <th>total_deaths</th>\n",
       "      <th>SI</th>\n",
       "      <th>pop</th>\n",
       "      <th>GDP</th>\n",
       "      <th>HDI</th>\n",
       "      <th>month</th>\n",
       "      <th>year</th>\n",
       "    </tr>\n",
       "  </thead>\n",
       "  <tbody>\n",
       "    <tr>\n",
       "      <th>21453</th>\n",
       "      <td>IND</td>\n",
       "      <td>India</td>\n",
       "      <td>2020-01-25</td>\n",
       "      <td>0</td>\n",
       "      <td>0</td>\n",
       "      <td>5.56</td>\n",
       "      <td>1380004385</td>\n",
       "      <td>6426.674</td>\n",
       "      <td>0.64</td>\n",
       "      <td>1</td>\n",
       "      <td>2020</td>\n",
       "    </tr>\n",
       "    <tr>\n",
       "      <th>21454</th>\n",
       "      <td>IND</td>\n",
       "      <td>India</td>\n",
       "      <td>2020-01-26</td>\n",
       "      <td>0</td>\n",
       "      <td>0</td>\n",
       "      <td>10.19</td>\n",
       "      <td>1380004385</td>\n",
       "      <td>6426.674</td>\n",
       "      <td>0.64</td>\n",
       "      <td>1</td>\n",
       "      <td>2020</td>\n",
       "    </tr>\n",
       "    <tr>\n",
       "      <th>21455</th>\n",
       "      <td>IND</td>\n",
       "      <td>India</td>\n",
       "      <td>2020-01-27</td>\n",
       "      <td>0</td>\n",
       "      <td>0</td>\n",
       "      <td>10.19</td>\n",
       "      <td>1380004385</td>\n",
       "      <td>6426.674</td>\n",
       "      <td>0.64</td>\n",
       "      <td>1</td>\n",
       "      <td>2020</td>\n",
       "    </tr>\n",
       "    <tr>\n",
       "      <th>21456</th>\n",
       "      <td>IND</td>\n",
       "      <td>India</td>\n",
       "      <td>2020-01-28</td>\n",
       "      <td>0</td>\n",
       "      <td>0</td>\n",
       "      <td>10.19</td>\n",
       "      <td>1380004385</td>\n",
       "      <td>6426.674</td>\n",
       "      <td>0.64</td>\n",
       "      <td>1</td>\n",
       "      <td>2020</td>\n",
       "    </tr>\n",
       "    <tr>\n",
       "      <th>21457</th>\n",
       "      <td>IND</td>\n",
       "      <td>India</td>\n",
       "      <td>2020-01-29</td>\n",
       "      <td>0</td>\n",
       "      <td>0</td>\n",
       "      <td>10.19</td>\n",
       "      <td>1380004385</td>\n",
       "      <td>6426.674</td>\n",
       "      <td>0.64</td>\n",
       "      <td>1</td>\n",
       "      <td>2020</td>\n",
       "    </tr>\n",
       "    <tr>\n",
       "      <th>...</th>\n",
       "      <td>...</td>\n",
       "      <td>...</td>\n",
       "      <td>...</td>\n",
       "      <td>...</td>\n",
       "      <td>...</td>\n",
       "      <td>...</td>\n",
       "      <td>...</td>\n",
       "      <td>...</td>\n",
       "      <td>...</td>\n",
       "      <td>...</td>\n",
       "      <td>...</td>\n",
       "    </tr>\n",
       "    <tr>\n",
       "      <th>21717</th>\n",
       "      <td>IND</td>\n",
       "      <td>India</td>\n",
       "      <td>2020-10-15</td>\n",
       "      <td>7307097</td>\n",
       "      <td>111266</td>\n",
       "      <td>0.00</td>\n",
       "      <td>1380004385</td>\n",
       "      <td>6426.674</td>\n",
       "      <td>0.64</td>\n",
       "      <td>10</td>\n",
       "      <td>2020</td>\n",
       "    </tr>\n",
       "    <tr>\n",
       "      <th>21718</th>\n",
       "      <td>IND</td>\n",
       "      <td>India</td>\n",
       "      <td>2020-10-16</td>\n",
       "      <td>7370468</td>\n",
       "      <td>112161</td>\n",
       "      <td>0.00</td>\n",
       "      <td>1380004385</td>\n",
       "      <td>6426.674</td>\n",
       "      <td>0.64</td>\n",
       "      <td>10</td>\n",
       "      <td>2020</td>\n",
       "    </tr>\n",
       "    <tr>\n",
       "      <th>21719</th>\n",
       "      <td>IND</td>\n",
       "      <td>India</td>\n",
       "      <td>2020-10-17</td>\n",
       "      <td>7432680</td>\n",
       "      <td>112998</td>\n",
       "      <td>0.00</td>\n",
       "      <td>1380004385</td>\n",
       "      <td>6426.674</td>\n",
       "      <td>0.64</td>\n",
       "      <td>10</td>\n",
       "      <td>2020</td>\n",
       "    </tr>\n",
       "    <tr>\n",
       "      <th>21720</th>\n",
       "      <td>IND</td>\n",
       "      <td>India</td>\n",
       "      <td>2020-10-18</td>\n",
       "      <td>7494551</td>\n",
       "      <td>114031</td>\n",
       "      <td>0.00</td>\n",
       "      <td>1380004385</td>\n",
       "      <td>6426.674</td>\n",
       "      <td>0.64</td>\n",
       "      <td>10</td>\n",
       "      <td>2020</td>\n",
       "    </tr>\n",
       "    <tr>\n",
       "      <th>21721</th>\n",
       "      <td>IND</td>\n",
       "      <td>India</td>\n",
       "      <td>2020-10-19</td>\n",
       "      <td>7550273</td>\n",
       "      <td>114610</td>\n",
       "      <td>0.00</td>\n",
       "      <td>1380004385</td>\n",
       "      <td>6426.674</td>\n",
       "      <td>0.64</td>\n",
       "      <td>10</td>\n",
       "      <td>2020</td>\n",
       "    </tr>\n",
       "  </tbody>\n",
       "</table>\n",
       "<p>269 rows × 11 columns</p>\n",
       "</div>"
      ],
      "text/plain": [
       "      iso_code    loc       date  total_cases  total_deaths     SI  \\\n",
       "21453      IND  India 2020-01-25            0             0   5.56   \n",
       "21454      IND  India 2020-01-26            0             0  10.19   \n",
       "21455      IND  India 2020-01-27            0             0  10.19   \n",
       "21456      IND  India 2020-01-28            0             0  10.19   \n",
       "21457      IND  India 2020-01-29            0             0  10.19   \n",
       "...        ...    ...        ...          ...           ...    ...   \n",
       "21717      IND  India 2020-10-15      7307097        111266   0.00   \n",
       "21718      IND  India 2020-10-16      7370468        112161   0.00   \n",
       "21719      IND  India 2020-10-17      7432680        112998   0.00   \n",
       "21720      IND  India 2020-10-18      7494551        114031   0.00   \n",
       "21721      IND  India 2020-10-19      7550273        114610   0.00   \n",
       "\n",
       "              pop       GDP   HDI  month  year  \n",
       "21453  1380004385  6426.674  0.64      1  2020  \n",
       "21454  1380004385  6426.674  0.64      1  2020  \n",
       "21455  1380004385  6426.674  0.64      1  2020  \n",
       "21456  1380004385  6426.674  0.64      1  2020  \n",
       "21457  1380004385  6426.674  0.64      1  2020  \n",
       "...           ...       ...   ...    ...   ...  \n",
       "21717  1380004385  6426.674  0.64     10  2020  \n",
       "21718  1380004385  6426.674  0.64     10  2020  \n",
       "21719  1380004385  6426.674  0.64     10  2020  \n",
       "21720  1380004385  6426.674  0.64     10  2020  \n",
       "21721  1380004385  6426.674  0.64     10  2020  \n",
       "\n",
       "[269 rows x 11 columns]"
      ]
     },
     "execution_count": 175,
     "metadata": {},
     "output_type": "execute_result"
    }
   ],
   "source": [
    "# Filter out India's data\n",
    "\n",
    "india_pandemic_data = pandemic_data.loc[pandemic_data['loc'] == 'India']\n",
    "india_pandemic_data"
   ]
  },
  {
   "cell_type": "code",
   "execution_count": 176,
   "metadata": {},
   "outputs": [
    {
     "name": "stderr",
     "output_type": "stream",
     "text": [
      "<ipython-input-176-f201d47cbb79>:1: SettingWithCopyWarning: \n",
      "A value is trying to be set on a copy of a slice from a DataFrame.\n",
      "Try using .loc[row_indexer,col_indexer] = value instead\n",
      "\n",
      "See the caveats in the documentation: https://pandas.pydata.org/pandas-docs/stable/user_guide/indexing.html#returning-a-view-versus-a-copy\n",
      "  india_pandemic_data[\"cases_daily\"]=india_pandemic_data[\"total_cases\"].diff()\n",
      "<ipython-input-176-f201d47cbb79>:2: SettingWithCopyWarning: \n",
      "A value is trying to be set on a copy of a slice from a DataFrame.\n",
      "Try using .loc[row_indexer,col_indexer] = value instead\n",
      "\n",
      "See the caveats in the documentation: https://pandas.pydata.org/pandas-docs/stable/user_guide/indexing.html#returning-a-view-versus-a-copy\n",
      "  india_pandemic_data['cases_daily']=india_pandemic_data['cases_daily'].fillna(0)\n"
     ]
    },
    {
     "data": {
      "text/html": [
       "<div>\n",
       "<style scoped>\n",
       "    .dataframe tbody tr th:only-of-type {\n",
       "        vertical-align: middle;\n",
       "    }\n",
       "\n",
       "    .dataframe tbody tr th {\n",
       "        vertical-align: top;\n",
       "    }\n",
       "\n",
       "    .dataframe thead th {\n",
       "        text-align: right;\n",
       "    }\n",
       "</style>\n",
       "<table border=\"1\" class=\"dataframe\">\n",
       "  <thead>\n",
       "    <tr style=\"text-align: right;\">\n",
       "      <th></th>\n",
       "      <th>iso_code</th>\n",
       "      <th>loc</th>\n",
       "      <th>date</th>\n",
       "      <th>total_cases</th>\n",
       "      <th>total_deaths</th>\n",
       "      <th>SI</th>\n",
       "      <th>pop</th>\n",
       "      <th>GDP</th>\n",
       "      <th>HDI</th>\n",
       "      <th>month</th>\n",
       "      <th>year</th>\n",
       "      <th>cases_daily</th>\n",
       "    </tr>\n",
       "  </thead>\n",
       "  <tbody>\n",
       "    <tr>\n",
       "      <th>21453</th>\n",
       "      <td>IND</td>\n",
       "      <td>India</td>\n",
       "      <td>2020-01-25</td>\n",
       "      <td>0</td>\n",
       "      <td>0</td>\n",
       "      <td>5.56</td>\n",
       "      <td>1380004385</td>\n",
       "      <td>6426.674</td>\n",
       "      <td>0.64</td>\n",
       "      <td>1</td>\n",
       "      <td>2020</td>\n",
       "      <td>0.0</td>\n",
       "    </tr>\n",
       "    <tr>\n",
       "      <th>21454</th>\n",
       "      <td>IND</td>\n",
       "      <td>India</td>\n",
       "      <td>2020-01-26</td>\n",
       "      <td>0</td>\n",
       "      <td>0</td>\n",
       "      <td>10.19</td>\n",
       "      <td>1380004385</td>\n",
       "      <td>6426.674</td>\n",
       "      <td>0.64</td>\n",
       "      <td>1</td>\n",
       "      <td>2020</td>\n",
       "      <td>0.0</td>\n",
       "    </tr>\n",
       "    <tr>\n",
       "      <th>21455</th>\n",
       "      <td>IND</td>\n",
       "      <td>India</td>\n",
       "      <td>2020-01-27</td>\n",
       "      <td>0</td>\n",
       "      <td>0</td>\n",
       "      <td>10.19</td>\n",
       "      <td>1380004385</td>\n",
       "      <td>6426.674</td>\n",
       "      <td>0.64</td>\n",
       "      <td>1</td>\n",
       "      <td>2020</td>\n",
       "      <td>0.0</td>\n",
       "    </tr>\n",
       "    <tr>\n",
       "      <th>21456</th>\n",
       "      <td>IND</td>\n",
       "      <td>India</td>\n",
       "      <td>2020-01-28</td>\n",
       "      <td>0</td>\n",
       "      <td>0</td>\n",
       "      <td>10.19</td>\n",
       "      <td>1380004385</td>\n",
       "      <td>6426.674</td>\n",
       "      <td>0.64</td>\n",
       "      <td>1</td>\n",
       "      <td>2020</td>\n",
       "      <td>0.0</td>\n",
       "    </tr>\n",
       "    <tr>\n",
       "      <th>21457</th>\n",
       "      <td>IND</td>\n",
       "      <td>India</td>\n",
       "      <td>2020-01-29</td>\n",
       "      <td>0</td>\n",
       "      <td>0</td>\n",
       "      <td>10.19</td>\n",
       "      <td>1380004385</td>\n",
       "      <td>6426.674</td>\n",
       "      <td>0.64</td>\n",
       "      <td>1</td>\n",
       "      <td>2020</td>\n",
       "      <td>0.0</td>\n",
       "    </tr>\n",
       "    <tr>\n",
       "      <th>...</th>\n",
       "      <td>...</td>\n",
       "      <td>...</td>\n",
       "      <td>...</td>\n",
       "      <td>...</td>\n",
       "      <td>...</td>\n",
       "      <td>...</td>\n",
       "      <td>...</td>\n",
       "      <td>...</td>\n",
       "      <td>...</td>\n",
       "      <td>...</td>\n",
       "      <td>...</td>\n",
       "      <td>...</td>\n",
       "    </tr>\n",
       "    <tr>\n",
       "      <th>21717</th>\n",
       "      <td>IND</td>\n",
       "      <td>India</td>\n",
       "      <td>2020-10-15</td>\n",
       "      <td>7307097</td>\n",
       "      <td>111266</td>\n",
       "      <td>0.00</td>\n",
       "      <td>1380004385</td>\n",
       "      <td>6426.674</td>\n",
       "      <td>0.64</td>\n",
       "      <td>10</td>\n",
       "      <td>2020</td>\n",
       "      <td>67708.0</td>\n",
       "    </tr>\n",
       "    <tr>\n",
       "      <th>21718</th>\n",
       "      <td>IND</td>\n",
       "      <td>India</td>\n",
       "      <td>2020-10-16</td>\n",
       "      <td>7370468</td>\n",
       "      <td>112161</td>\n",
       "      <td>0.00</td>\n",
       "      <td>1380004385</td>\n",
       "      <td>6426.674</td>\n",
       "      <td>0.64</td>\n",
       "      <td>10</td>\n",
       "      <td>2020</td>\n",
       "      <td>63371.0</td>\n",
       "    </tr>\n",
       "    <tr>\n",
       "      <th>21719</th>\n",
       "      <td>IND</td>\n",
       "      <td>India</td>\n",
       "      <td>2020-10-17</td>\n",
       "      <td>7432680</td>\n",
       "      <td>112998</td>\n",
       "      <td>0.00</td>\n",
       "      <td>1380004385</td>\n",
       "      <td>6426.674</td>\n",
       "      <td>0.64</td>\n",
       "      <td>10</td>\n",
       "      <td>2020</td>\n",
       "      <td>62212.0</td>\n",
       "    </tr>\n",
       "    <tr>\n",
       "      <th>21720</th>\n",
       "      <td>IND</td>\n",
       "      <td>India</td>\n",
       "      <td>2020-10-18</td>\n",
       "      <td>7494551</td>\n",
       "      <td>114031</td>\n",
       "      <td>0.00</td>\n",
       "      <td>1380004385</td>\n",
       "      <td>6426.674</td>\n",
       "      <td>0.64</td>\n",
       "      <td>10</td>\n",
       "      <td>2020</td>\n",
       "      <td>61871.0</td>\n",
       "    </tr>\n",
       "    <tr>\n",
       "      <th>21721</th>\n",
       "      <td>IND</td>\n",
       "      <td>India</td>\n",
       "      <td>2020-10-19</td>\n",
       "      <td>7550273</td>\n",
       "      <td>114610</td>\n",
       "      <td>0.00</td>\n",
       "      <td>1380004385</td>\n",
       "      <td>6426.674</td>\n",
       "      <td>0.64</td>\n",
       "      <td>10</td>\n",
       "      <td>2020</td>\n",
       "      <td>55722.0</td>\n",
       "    </tr>\n",
       "  </tbody>\n",
       "</table>\n",
       "<p>269 rows × 12 columns</p>\n",
       "</div>"
      ],
      "text/plain": [
       "      iso_code    loc       date  total_cases  total_deaths     SI  \\\n",
       "21453      IND  India 2020-01-25            0             0   5.56   \n",
       "21454      IND  India 2020-01-26            0             0  10.19   \n",
       "21455      IND  India 2020-01-27            0             0  10.19   \n",
       "21456      IND  India 2020-01-28            0             0  10.19   \n",
       "21457      IND  India 2020-01-29            0             0  10.19   \n",
       "...        ...    ...        ...          ...           ...    ...   \n",
       "21717      IND  India 2020-10-15      7307097        111266   0.00   \n",
       "21718      IND  India 2020-10-16      7370468        112161   0.00   \n",
       "21719      IND  India 2020-10-17      7432680        112998   0.00   \n",
       "21720      IND  India 2020-10-18      7494551        114031   0.00   \n",
       "21721      IND  India 2020-10-19      7550273        114610   0.00   \n",
       "\n",
       "              pop       GDP   HDI  month  year  cases_daily  \n",
       "21453  1380004385  6426.674  0.64      1  2020          0.0  \n",
       "21454  1380004385  6426.674  0.64      1  2020          0.0  \n",
       "21455  1380004385  6426.674  0.64      1  2020          0.0  \n",
       "21456  1380004385  6426.674  0.64      1  2020          0.0  \n",
       "21457  1380004385  6426.674  0.64      1  2020          0.0  \n",
       "...           ...       ...   ...    ...   ...          ...  \n",
       "21717  1380004385  6426.674  0.64     10  2020      67708.0  \n",
       "21718  1380004385  6426.674  0.64     10  2020      63371.0  \n",
       "21719  1380004385  6426.674  0.64     10  2020      62212.0  \n",
       "21720  1380004385  6426.674  0.64     10  2020      61871.0  \n",
       "21721  1380004385  6426.674  0.64     10  2020      55722.0  \n",
       "\n",
       "[269 rows x 12 columns]"
      ]
     },
     "execution_count": 176,
     "metadata": {},
     "output_type": "execute_result"
    }
   ],
   "source": [
    "india_pandemic_data[\"cases_daily\"]=india_pandemic_data[\"total_cases\"].diff()\n",
    "india_pandemic_data['cases_daily']=india_pandemic_data['cases_daily'].fillna(0)\n",
    "india_pandemic_data"
   ]
  },
  {
   "cell_type": "markdown",
   "metadata": {},
   "source": [
    "### Lets create a scatter plot to figure out the if there is a linear relationship between the two variables"
   ]
  },
  {
   "cell_type": "code",
   "execution_count": 177,
   "metadata": {},
   "outputs": [
    {
     "data": {
      "image/png": "[encoded data removed]",
      "text/plain": [
       "<Figure size 720x576 with 1 Axes>"
      ]
     },
     "metadata": {
      "needs_background": "light"
     },
     "output_type": "display_data"
    }
   ],
   "source": [
    "fig, ax = plt.subplots()\n",
    "fig.set_size_inches(10, 8, forward=True)\n",
    "# ax.scatter(pandemic_data['SI'], pandemic_data['GDP'])\n",
    "ax.scatter(india_pandemic_data['SI'], india_pandemic_data['cases_daily'])\n",
    "ax.set_xlabel('Stringency Index', fontsize=15)\n",
    "ax.set_ylabel('Cases Daily', fontsize=15)\n",
    "ax.set_title('Stringency Index and total cases plot for India', fontsize=18)\n",
    "ax.grid(which='both')\n",
    "plt.tight_layout()"
   ]
  },
  {
   "cell_type": "markdown",
   "metadata": {},
   "source": [
    "### Regression variable -\n",
    "    y is dependant\n",
    "    x is independant"
   ]
  },
  {
   "cell_type": "code",
   "execution_count": 178,
   "metadata": {},
   "outputs": [],
   "source": [
    "x = india_pandemic_data['SI']\n",
    "y = india_pandemic_data['cases_daily']\n",
    "# y2 = india_pandemic_data['total_deaths']"
   ]
  },
  {
   "cell_type": "markdown",
   "metadata": {},
   "source": []
  },
  {
   "cell_type": "code",
   "execution_count": 179,
   "metadata": {},
   "outputs": [
    {
     "data": {
      "text/plain": [
       "21453     5.56\n",
       "21454    10.19\n",
       "21455    10.19\n",
       "21456    10.19\n",
       "21457    10.19\n",
       "         ...  \n",
       "21717     0.00\n",
       "21718     0.00\n",
       "21719     0.00\n",
       "21720     0.00\n",
       "21721     0.00\n",
       "Name: SI, Length: 269, dtype: float64"
      ]
     },
     "execution_count": 179,
     "metadata": {},
     "output_type": "execute_result"
    }
   ],
   "source": [
    "x"
   ]
  },
  {
   "cell_type": "code",
   "execution_count": 180,
   "metadata": {},
   "outputs": [
    {
     "data": {
      "text/plain": [
       "21453        0.0\n",
       "21454        0.0\n",
       "21455        0.0\n",
       "21456        0.0\n",
       "21457        0.0\n",
       "          ...   \n",
       "21717    67708.0\n",
       "21718    63371.0\n",
       "21719    62212.0\n",
       "21720    61871.0\n",
       "21721    55722.0\n",
       "Name: cases_daily, Length: 269, dtype: float64"
      ]
     },
     "execution_count": 180,
     "metadata": {},
     "output_type": "execute_result"
    }
   ],
   "source": [
    "y"
   ]
  },
  {
   "cell_type": "markdown",
   "metadata": {},
   "source": [
    "#### Model Validation"
   ]
  },
  {
   "cell_type": "code",
   "execution_count": 181,
   "metadata": {},
   "outputs": [
    {
     "name": "stdout",
     "output_type": "stream",
     "text": [
      "[[ 79.63]\n",
      " [ 77.78]\n",
      " [ 75.46]\n",
      " [ 81.02]\n",
      " [ 75.46]\n",
      " [ 79.63]\n",
      " [100.  ]\n",
      " [ 73.61]\n",
      " [ 73.61]\n",
      " [ 75.46]\n",
      " [ 77.78]\n",
      " [ 77.78]\n",
      " [ 10.19]\n",
      " [100.  ]\n",
      " [ 79.63]\n",
      " [ 33.33]\n",
      " [ 48.15]\n",
      " [ 81.94]\n",
      " [ 96.3 ]\n",
      " [ 86.57]\n",
      " [ 81.02]\n",
      " [ 77.78]\n",
      " [100.  ]\n",
      " [ 77.78]\n",
      " [ 79.63]\n",
      " [ 76.85]\n",
      " [ 81.02]\n",
      " [ 81.02]\n",
      " [100.  ]\n",
      " [ 76.39]\n",
      " [ 79.17]\n",
      " [ 10.19]\n",
      " [ 10.19]\n",
      " [ 10.19]\n",
      " [ 96.3 ]\n",
      " [ 77.78]\n",
      " [ 79.17]\n",
      " [ 26.85]\n",
      " [ 96.3 ]\n",
      " [ 76.39]\n",
      " [ 96.3 ]\n",
      " [ 26.85]\n",
      " [ 77.78]\n",
      " [ 81.02]\n",
      " [ 50.  ]\n",
      " [ 79.63]\n",
      " [ 77.78]\n",
      " [ 26.85]\n",
      " [ 96.3 ]\n",
      " [100.  ]\n",
      " [ 79.17]\n",
      " [ 75.46]\n",
      " [ 96.3 ]\n",
      " [ 10.19]\n",
      " [ 70.83]\n",
      " [ 81.94]\n",
      " [ 81.94]\n",
      " [ 79.63]\n",
      " [ 10.19]\n",
      " [ 26.85]\n",
      " [ 77.78]\n",
      " [ 79.17]\n",
      " [ 79.17]\n",
      " [ 96.3 ]\n",
      " [ 81.94]\n",
      " [ 81.02]\n",
      " [ 73.61]\n",
      " [  5.56]\n",
      " [ 77.78]\n",
      " [ 10.19]\n",
      " [ 79.17]\n",
      " [ 81.94]\n",
      " [ 73.61]\n",
      " [ 15.74]\n",
      " [ 10.19]\n",
      " [ 10.19]\n",
      " [ 79.63]\n",
      " [ 75.46]\n",
      " [ 74.07]\n",
      " [ 81.94]\n",
      " [ 79.63]\n",
      " [ 81.02]\n",
      " [ 76.39]\n",
      " [ 73.61]\n",
      " [ 96.3 ]\n",
      " [ 75.46]\n",
      " [ 73.61]\n",
      " [ 81.94]\n",
      " [ 75.46]\n",
      " [ 79.17]\n",
      " [ 10.19]\n",
      " [ 10.19]\n",
      " [ 79.63]\n",
      " [100.  ]\n",
      " [ 79.63]\n",
      " [ 79.63]\n",
      " [ 86.57]\n",
      " [ 81.94]\n",
      " [ 76.85]\n",
      " [ 96.3 ]\n",
      " [ 10.19]\n",
      " [ 75.46]\n",
      " [ 79.63]\n",
      " [ 81.02]\n",
      " [ 10.19]\n",
      " [ 77.78]\n",
      " [ 79.63]\n",
      " [ 74.07]\n",
      " [ 73.61]\n",
      " [ 76.85]\n",
      " [ 76.39]\n",
      " [ 10.19]\n",
      " [ 79.63]\n",
      " [ 75.46]\n",
      " [ 79.17]\n",
      " [ 77.78]\n",
      " [ 76.39]\n",
      " [ 79.17]\n",
      " [ 38.89]\n",
      " [ 77.78]\n",
      " [ 96.3 ]\n",
      " [ 81.02]\n",
      " [ 79.63]\n",
      " [ 26.85]\n",
      " [ 77.78]\n",
      " [ 76.85]\n",
      " [ 10.19]\n",
      " [ 79.17]\n",
      " [100.  ]\n",
      " [100.  ]\n",
      " [ 73.61]\n",
      " [ 74.07]\n",
      " [ 10.19]\n",
      " [100.  ]\n",
      " [ 79.17]\n",
      " [100.  ]\n",
      " [  0.  ]\n",
      " [ 74.07]\n",
      " [100.  ]\n",
      " [ 79.63]\n",
      " [ 10.19]\n",
      " [ 10.19]\n",
      " [ 75.46]\n",
      " [ 73.61]\n",
      " [ 73.61]\n",
      " [ 81.02]\n",
      " [ 77.78]\n",
      " [100.  ]\n",
      " [ 76.39]\n",
      " [ 10.19]\n",
      " [ 79.17]\n",
      " [ 76.85]\n",
      " [ 76.39]\n",
      " [ 74.07]\n",
      " [ 76.39]\n",
      " [  0.  ]\n",
      " [ 10.19]\n",
      " [100.  ]\n",
      " [ 76.39]\n",
      " [ 81.94]\n",
      " [ 59.72]\n",
      " [100.  ]\n",
      " [ 79.63]\n",
      " [ 76.85]\n",
      " [ 26.85]\n",
      " [ 81.02]\n",
      " [ 10.19]\n",
      " [ 79.63]\n",
      " [ 81.94]\n",
      " [ 74.07]\n",
      " [ 79.17]\n",
      " [ 76.39]\n",
      " [  0.  ]\n",
      " [100.  ]\n",
      " [ 10.19]\n",
      " [ 76.39]\n",
      " [  0.  ]\n",
      " [ 79.63]\n",
      " [ 10.19]\n",
      " [ 79.63]\n",
      " [100.  ]\n",
      " [100.  ]\n",
      " [100.  ]\n",
      " [ 10.19]\n",
      " [ 74.07]\n",
      " [ 10.19]\n",
      " [  0.  ]\n",
      " [ 26.85]\n",
      " [ 81.02]\n",
      " [100.  ]\n",
      " [100.  ]\n",
      " [ 74.07]\n",
      " [ 79.63]\n",
      " [ 77.78]\n",
      " [ 81.02]\n",
      " [ 81.02]\n",
      " [ 81.02]\n",
      " [100.  ]\n",
      " [ 81.94]\n",
      " [ 76.39]\n",
      " [ 26.85]\n",
      " [ 10.19]\n",
      " [ 10.19]\n",
      " [ 76.39]\n",
      " [ 81.94]\n",
      " [ 96.3 ]\n",
      " [ 10.19]\n",
      " [ 10.19]\n",
      " [ 48.15]\n",
      " [ 77.78]\n",
      " [ 77.78]\n",
      " [100.  ]\n",
      " [ 75.46]\n",
      " [ 75.46]\n",
      " [ 10.19]]\n",
      "21652    53601.0\n",
      "21624    28498.0\n",
      "21582     8171.0\n",
      "21690    96424.0\n",
      "21693    86961.0\n",
      "          ...   \n",
      "21637    49931.0\n",
      "21519      180.0\n",
      "21583     8909.0\n",
      "21588     9983.0\n",
      "21481        0.0\n",
      "Name: cases_daily, Length: 215, dtype: float64\n"
     ]
    }
   ],
   "source": [
    "from sklearn.model_selection import train_test_split\n",
    "from sklearn.linear_model import LinearRegression\n",
    "\n",
    "model = LinearRegression()\n",
    "x_train, x_test, y_train, y_test = train_test_split(x,y, test_size=0.2, shuffle=True)\n",
    "x_train = x_train.values.reshape(-1, 1)\n",
    "x_test = x_test.values.reshape(-1, 1)\n",
    "\n",
    "print(x_train)\n",
    "print(y_train)"
   ]
  },
  {
   "cell_type": "code",
   "execution_count": 182,
   "metadata": {},
   "outputs": [
    {
     "data": {
      "text/plain": [
       "LinearRegression()"
      ]
     },
     "execution_count": 182,
     "metadata": {},
     "output_type": "execute_result"
    }
   ],
   "source": [
    "model.fit(x_train, y_train)"
   ]
  },
  {
   "cell_type": "code",
   "execution_count": 183,
   "metadata": {},
   "outputs": [
    {
     "data": {
      "text/plain": [
       "array([213.95283601])"
      ]
     },
     "execution_count": 183,
     "metadata": {},
     "output_type": "execute_result"
    }
   ],
   "source": [
    "model.coef_"
   ]
  },
  {
   "cell_type": "code",
   "execution_count": 184,
   "metadata": {},
   "outputs": [
    {
     "data": {
      "text/plain": [
       "0.04127972492321608"
      ]
     },
     "execution_count": 184,
     "metadata": {},
     "output_type": "execute_result"
    }
   ],
   "source": [
    "model.score(x_train, y_train)"
   ]
  },
  {
   "cell_type": "markdown",
   "metadata": {},
   "source": [
    "Fitting the dataset into Linear Regression Model"
   ]
  },
  {
   "cell_type": "code",
   "execution_count": 185,
   "metadata": {},
   "outputs": [
    {
     "data": {
      "text/plain": [
       "LinearRegression()"
      ]
     },
     "execution_count": 185,
     "metadata": {},
     "output_type": "execute_result"
    }
   ],
   "source": [
    "from sklearn.linear_model import LinearRegression\n",
    "\n",
    "regressor=LinearRegression()\n",
    "regressor.fit(x_train,y_train)"
   ]
  },
  {
   "cell_type": "code",
   "execution_count": 186,
   "metadata": {},
   "outputs": [
    {
     "data": {
      "text/plain": [
       "array([213.95283601])"
      ]
     },
     "execution_count": 186,
     "metadata": {},
     "output_type": "execute_result"
    }
   ],
   "source": [
    "# calculated co-efficients\n",
    "regressor.coef_"
   ]
  },
  {
   "cell_type": "code",
   "execution_count": 187,
   "metadata": {},
   "outputs": [
    {
     "data": {
      "text/plain": [
       "array([28423.69306307, 28819.50580968, 29116.90025174, 27927.32248353,\n",
       "       28819.50580968, 13962.62087725, 33177.72507918, 28224.71692558,\n",
       "       33177.72507918, 28224.71692558, 27531.50973691, 13962.62087725,\n",
       "       28423.69306307, 33177.72507918, 27629.92804148, 27531.50973691,\n",
       "       11782.44147833, 28819.50580968, 29116.90025174, 13962.62087725,\n",
       "       28819.50580968, 27927.32248353, 33177.72507918, 32386.09958595,\n",
       "       28819.50580968, 27531.50973691, 29313.73686086, 33177.72507918,\n",
       "       27927.32248353, 32386.09958595, 29313.73686086, 28819.50580968,\n",
       "       27531.50973691, 29116.90025174, 27927.32248353, 29116.90025174,\n",
       "       13962.62087725, 32386.09958595, 29116.90025174, 29116.90025174,\n",
       "       28224.71692558, 28126.29862102, 29116.90025174, 13962.62087725,\n",
       "       19508.27838659, 29116.90025174, 13962.62087725, 28423.69306307,\n",
       "       28819.50580968, 13962.62087725, 28721.08750512, 27927.32248353,\n",
       "       13962.62087725, 28423.69306307])"
      ]
     },
     "execution_count": 187,
     "metadata": {},
     "output_type": "execute_result"
    }
   ],
   "source": [
    "# predicting\n",
    "y_pred= regressor.predict(x_test) \n",
    "y_pred"
   ]
  },
  {
   "cell_type": "code",
   "execution_count": 188,
   "metadata": {},
   "outputs": [
    {
     "name": "stdout",
     "output_type": "stream",
     "text": [
      "Train Score:  0.04127972492321608\n",
      "Test Score:  -0.019135354805019267\n"
     ]
    }
   ],
   "source": [
    "print('Train Score: ', regressor.score(x_train, y_train))  \n",
    "print('Test Score: ', regressor.score(x_test, y_test))"
   ]
  },
  {
   "cell_type": "code",
   "execution_count": 189,
   "metadata": {},
   "outputs": [
    {
     "data": {
      "text/plain": [
       "1279868091.965441"
      ]
     },
     "execution_count": 189,
     "metadata": {},
     "output_type": "execute_result"
    }
   ],
   "source": [
    "from sklearn.metrics import mean_squared_error\n",
    "\n",
    "mean_squared_error(y_test,y_pred)"
   ]
  },
  {
   "cell_type": "code",
   "execution_count": 190,
   "metadata": {},
   "outputs": [],
   "source": [
    "from sklearn.feature_selection import SelectKBest\n",
    "from sklearn.feature_selection import f_regression\n",
    "from sklearn.feature_selection import mutual_info_regression"
   ]
  },
  {
   "cell_type": "markdown",
   "metadata": {},
   "source": [
    "# Feature Selection using correlation"
   ]
  },
  {
   "cell_type": "code",
   "execution_count": 191,
   "metadata": {},
   "outputs": [],
   "source": [
    "# feature selection\n",
    "f_selector = SelectKBest(score_func=f_regression, k='all')"
   ]
  },
  {
   "cell_type": "code",
   "execution_count": 192,
   "metadata": {},
   "outputs": [
    {
     "data": {
      "text/plain": [
       "SelectKBest(k='all', score_func=<function f_regression at 0x1230df0d0>)"
      ]
     },
     "execution_count": 192,
     "metadata": {},
     "output_type": "execute_result"
    }
   ],
   "source": [
    "# learn relationship from training data\n",
    "f_selector.fit(x_train, y_train)"
   ]
  },
  {
   "cell_type": "code",
   "execution_count": 193,
   "metadata": {},
   "outputs": [],
   "source": [
    "# transform train input data\n",
    "x_train_fs = f_selector.transform(x_train)\n",
    "# transform test input data\n",
    "x_test_fs = f_selector.transform(x_test)"
   ]
  },
  {
   "cell_type": "code",
   "execution_count": 194,
   "metadata": {},
   "outputs": [
    {
     "data": {
      "image/png": "[encoded data removed]",
      "text/plain": [
       "<Figure size 432x288 with 1 Axes>"
      ]
     },
     "metadata": {
      "needs_background": "light"
     },
     "output_type": "display_data"
    }
   ],
   "source": [
    "# Plot the scores for the features\n",
    "plt.bar([i for i in range(len(f_selector.scores_))], f_selector.scores_)\n",
    "plt.xlabel(\"feature index\")\n",
    "plt.ylabel(\"F-value (transformed from the correlation values)\")\n",
    "plt.show()"
   ]
  },
  {
   "cell_type": "code",
   "execution_count": null,
   "metadata": {},
   "outputs": [],
   "source": []
  },
  {
   "cell_type": "code",
   "execution_count": null,
   "metadata": {},
   "outputs": [],
   "source": []
  }
 ],
 "metadata": {
  "kernelspec": {
   "display_name": "Python 3",
   "language": "python",
   "name": "python3"
  },
  "language_info": {
   "codemirror_mode": {
    "name": "ipython",
    "version": 3
   },
   "file_extension": ".py",
   "mimetype": "text/x-python",
   "name": "python",
   "nbconvert_exporter": "python",
   "pygments_lexer": "ipython3",
   "version": "3.8.5"
  }
 },
 "nbformat": 4,
 "nbformat_minor": 4
}
